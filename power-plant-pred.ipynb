{
 "cells": [
  {
   "cell_type": "code",
   "execution_count": 1,
   "metadata": {},
   "outputs": [],
   "source": [
    "# Import Library\n",
    "\n",
    "import pandas as pd\n",
    "import numpy as np\n",
    "import matplotlib.pyplot as plt"
   ]
  },
  {
   "cell_type": "code",
   "execution_count": 2,
   "metadata": {},
   "outputs": [],
   "source": [
    "# Read the dataset\n",
    "\n",
    "test = pd.read_csv(\"dataset/Testing_set_ccpp.csv\")\n",
    "train = pd.read_csv(\"dataset/Training_set_ccpp.csv\")"
   ]
  },
  {
   "cell_type": "markdown",
   "metadata": {},
   "source": [
    "### Linear Regression using AT to Predict PE"
   ]
  },
  {
   "cell_type": "code",
   "execution_count": 22,
   "metadata": {},
   "outputs": [],
   "source": [
    "y = train['PE'].values.reshape(-1, 1)\n",
    "X = train['AT'].values.reshape(-1, 1)"
   ]
  },
  {
   "cell_type": "code",
   "execution_count": 23,
   "metadata": {},
   "outputs": [],
   "source": [
    "from sklearn.model_selection import train_test_split\n",
    "X_train, X_test, y_train, y_test = train_test_split(X, y, test_size = 0.2, random_state = 42) # 42 is SEED"
   ]
  },
  {
   "cell_type": "code",
   "execution_count": 24,
   "metadata": {},
   "outputs": [],
   "source": [
    "from sklearn.linear_model import LinearRegression\n",
    "regressor = LinearRegression()"
   ]
  },
  {
   "cell_type": "code",
   "execution_count": 25,
   "metadata": {},
   "outputs": [
    {
     "data": {
      "text/plain": [
       "LinearRegression()"
      ]
     },
     "execution_count": 25,
     "metadata": {},
     "output_type": "execute_result"
    }
   ],
   "source": [
    "regressor.fit(X_train, y_train)"
   ]
  },
  {
   "cell_type": "code",
   "execution_count": 26,
   "metadata": {},
   "outputs": [
    {
     "name": "stdout",
     "output_type": "stream",
     "text": [
      "[497.18060452]\n"
     ]
    }
   ],
   "source": [
    "inter = regressor.intercept_\n",
    "print(inter) #as an intercept"
   ]
  },
  {
   "cell_type": "code",
   "execution_count": 27,
   "metadata": {},
   "outputs": [
    {
     "name": "stdout",
     "output_type": "stream",
     "text": [
      "[[-2.17705286]]\n"
     ]
    }
   ],
   "source": [
    "reg = regressor.coef_\n",
    "print(reg) #as a slope"
   ]
  },
  {
   "cell_type": "code",
   "execution_count": 28,
   "metadata": {},
   "outputs": [],
   "source": [
    "y_pred = regressor.predict(X_test)"
   ]
  },
  {
   "cell_type": "code",
   "execution_count": 29,
   "metadata": {},
   "outputs": [
    {
     "name": "stdout",
     "output_type": "stream",
     "text": [
      "      Actual   Predicted\n",
      "0     432.60  427.928553\n",
      "1     441.18  446.259338\n",
      "2     482.99  478.414409\n",
      "3     437.12  444.408843\n",
      "4     487.33  485.315666\n",
      "...      ...         ...\n",
      "1277  452.30  451.941446\n",
      "1278  446.84  450.265115\n",
      "1279  470.88  468.487048\n",
      "1280  467.20  467.028422\n",
      "1281  446.08  450.896461\n",
      "\n",
      "[1282 rows x 2 columns]\n"
     ]
    }
   ],
   "source": [
    "df_preds = pd.DataFrame({'Actual': y_test.squeeze(), 'Predicted': y_pred.squeeze()})\n",
    "print(df_preds)"
   ]
  },
  {
   "cell_type": "code",
   "execution_count": 30,
   "metadata": {},
   "outputs": [],
   "source": [
    "from sklearn.metrics import mean_absolute_error, mean_squared_error"
   ]
  },
  {
   "cell_type": "code",
   "execution_count": 31,
   "metadata": {},
   "outputs": [],
   "source": [
    "mae = mean_absolute_error(y_test, y_pred)\n",
    "mse = mean_squared_error(y_test, y_pred)\n",
    "rmse = np.sqrt(mse)"
   ]
  },
  {
   "cell_type": "code",
   "execution_count": 32,
   "metadata": {},
   "outputs": [
    {
     "name": "stdout",
     "output_type": "stream",
     "text": [
      "Mean absolute error: 4.26\n",
      "Mean squared error: 29.45\n",
      "Root mean squared error: 5.43\n"
     ]
    }
   ],
   "source": [
    "print(f'Mean absolute error: {mae:.2f}')\n",
    "print(f'Mean squared error: {mse:.2f}')\n",
    "print(f'Root mean squared error: {rmse:.2f}')"
   ]
  },
  {
   "cell_type": "markdown",
   "metadata": {},
   "source": [
    "### Predict AT based on AT and EV"
   ]
  },
  {
   "cell_type": "code",
   "execution_count": 33,
   "metadata": {},
   "outputs": [],
   "source": [
    "y = train['PE']\n",
    "X = train[['AT', 'EV']]"
   ]
  },
  {
   "cell_type": "code",
   "execution_count": 34,
   "metadata": {},
   "outputs": [],
   "source": [
    "X_train, X_test, y_train, y_test = train_test_split(X, y, \n",
    "                                                    test_size=0.2, \n",
    "                                                    random_state=42)"
   ]
  },
  {
   "cell_type": "code",
   "execution_count": 35,
   "metadata": {},
   "outputs": [
    {
     "data": {
      "text/plain": [
       "LinearRegression()"
      ]
     },
     "execution_count": 35,
     "metadata": {},
     "output_type": "execute_result"
    }
   ],
   "source": [
    "regressor = LinearRegression()\n",
    "regressor.fit(X_train, y_train)"
   ]
  },
  {
   "cell_type": "code",
   "execution_count": 36,
   "metadata": {},
   "outputs": [
    {
     "data": {
      "text/plain": [
       "505.5877281179684"
      ]
     },
     "execution_count": 36,
     "metadata": {},
     "output_type": "execute_result"
    }
   ],
   "source": [
    "regressor.intercept_"
   ]
  },
  {
   "cell_type": "code",
   "execution_count": 37,
   "metadata": {},
   "outputs": [
    {
     "data": {
      "text/plain": [
       "array([-1.71443086, -0.32229592])"
      ]
     },
     "execution_count": 37,
     "metadata": {},
     "output_type": "execute_result"
    }
   ],
   "source": [
    "regressor.coef_"
   ]
  },
  {
   "cell_type": "code",
   "execution_count": 38,
   "metadata": {},
   "outputs": [
    {
     "name": "stdout",
     "output_type": "stream",
     "text": [
      "    Coefficient value\n",
      "AT          -1.714431\n",
      "EV          -0.322296\n"
     ]
    }
   ],
   "source": [
    "feature_names = X.columns\n",
    "model_coefficients = regressor.coef_\n",
    "\n",
    "coefficients_df = pd.DataFrame(data = model_coefficients, \n",
    "                              index = feature_names, \n",
    "                              columns = ['Coefficient value'])\n",
    "print(coefficients_df)"
   ]
  },
  {
   "cell_type": "code",
   "execution_count": 39,
   "metadata": {},
   "outputs": [],
   "source": [
    "y_pred = regressor.predict(X_test)"
   ]
  },
  {
   "cell_type": "code",
   "execution_count": 40,
   "metadata": {},
   "outputs": [
    {
     "name": "stdout",
     "output_type": "stream",
     "text": [
      "      Actual   Predicted\n",
      "5093  432.60  428.529644\n",
      "1044  441.18  441.798440\n",
      "4827  482.99  478.027078\n",
      "2905  437.12  442.017113\n",
      "4994  487.33  483.661647\n",
      "...      ...         ...\n",
      "5247  452.30  449.811914\n",
      "509   446.84  454.277014\n",
      "2908  470.88  470.090024\n",
      "5478  467.20  467.371774\n",
      "2191  446.08  449.530444\n",
      "\n",
      "[1282 rows x 2 columns]\n"
     ]
    }
   ],
   "source": [
    "results = pd.DataFrame({'Actual': y_test, 'Predicted': y_pred})\n",
    "print(results)"
   ]
  },
  {
   "cell_type": "code",
   "execution_count": 41,
   "metadata": {},
   "outputs": [
    {
     "name": "stdout",
     "output_type": "stream",
     "text": [
      "Mean absolute error: 3.86\n",
      "Mean squared error: 24.25\n",
      "Root mean squared error: 4.92\n"
     ]
    }
   ],
   "source": [
    "mae = mean_absolute_error(y_test, y_pred)\n",
    "mse = mean_squared_error(y_test, y_pred)\n",
    "rmse = np.sqrt(mse)\n",
    "\n",
    "print(f'Mean absolute error: {mae:.2f}')\n",
    "print(f'Mean squared error: {mse:.2f}')\n",
    "print(f'Root mean squared error: {rmse:.2f}')"
   ]
  },
  {
   "cell_type": "code",
   "execution_count": 42,
   "metadata": {},
   "outputs": [
    {
     "name": "stdout",
     "output_type": "stream",
     "text": [
      "R²: 0.915715396967825\n"
     ]
    }
   ],
   "source": [
    "actual_minus_predicted = sum((y_test - y_pred)**2)\n",
    "actual_minus_actual_mean = sum((y_test - y_test.mean())**2)\n",
    "r2 = 1 - actual_minus_predicted/actual_minus_actual_mean\n",
    "print('R²:', r2)"
   ]
  },
  {
   "cell_type": "code",
   "execution_count": 43,
   "metadata": {},
   "outputs": [
    {
     "data": {
      "text/plain": [
       "0.9157153969678249"
      ]
     },
     "execution_count": 43,
     "metadata": {},
     "output_type": "execute_result"
    }
   ],
   "source": [
    "regressor.score(X_test, y_test)"
   ]
  },
  {
   "cell_type": "code",
   "execution_count": 44,
   "metadata": {},
   "outputs": [
    {
     "data": {
      "text/plain": [
       "0.9166130733734346"
      ]
     },
     "execution_count": 44,
     "metadata": {},
     "output_type": "execute_result"
    }
   ],
   "source": [
    "regressor.score(X_train, y_train)"
   ]
  },
  {
   "cell_type": "markdown",
   "metadata": {},
   "source": [
    "### Predict AT based on all variables"
   ]
  },
  {
   "cell_type": "code",
   "execution_count": 45,
   "metadata": {},
   "outputs": [],
   "source": [
    "y = train['PE']\n",
    "X = train[['AT', 'AP', 'RH', 'EV']]"
   ]
  },
  {
   "cell_type": "code",
   "execution_count": 46,
   "metadata": {},
   "outputs": [],
   "source": [
    "X_train, X_test, y_train, y_test = train_test_split(X, y, \n",
    "                                                    test_size=0.2, \n",
    "                                                    random_state=42)"
   ]
  },
  {
   "cell_type": "code",
   "execution_count": 47,
   "metadata": {},
   "outputs": [
    {
     "data": {
      "text/plain": [
       "LinearRegression()"
      ]
     },
     "execution_count": 47,
     "metadata": {},
     "output_type": "execute_result"
    }
   ],
   "source": [
    "regressor = LinearRegression()\n",
    "regressor.fit(X_train, y_train)"
   ]
  },
  {
   "cell_type": "code",
   "execution_count": 48,
   "metadata": {},
   "outputs": [
    {
     "data": {
      "text/plain": [
       "463.15851697563994"
      ]
     },
     "execution_count": 48,
     "metadata": {},
     "output_type": "execute_result"
    }
   ],
   "source": [
    "regressor.intercept_"
   ]
  },
  {
   "cell_type": "code",
   "execution_count": 49,
   "metadata": {},
   "outputs": [
    {
     "data": {
      "text/plain": [
       "array([-2.00095157,  0.05393161, -0.16050202, -0.22694278])"
      ]
     },
     "execution_count": 49,
     "metadata": {},
     "output_type": "execute_result"
    }
   ],
   "source": [
    "regressor.coef_"
   ]
  },
  {
   "cell_type": "code",
   "execution_count": 50,
   "metadata": {},
   "outputs": [
    {
     "name": "stdout",
     "output_type": "stream",
     "text": [
      "    Coefficient value\n",
      "AT          -2.000952\n",
      "AP           0.053932\n",
      "RH          -0.160502\n",
      "EV          -0.226943\n"
     ]
    }
   ],
   "source": [
    "feature_names = X.columns\n",
    "model_coefficients = regressor.coef_\n",
    "\n",
    "coefficients_df = pd.DataFrame(data = model_coefficients, \n",
    "                              index = feature_names, \n",
    "                              columns = ['Coefficient value'])\n",
    "print(coefficients_df)"
   ]
  },
  {
   "cell_type": "code",
   "execution_count": 51,
   "metadata": {},
   "outputs": [],
   "source": [
    "y_pred = regressor.predict(X_test)"
   ]
  },
  {
   "cell_type": "code",
   "execution_count": 52,
   "metadata": {},
   "outputs": [
    {
     "name": "stdout",
     "output_type": "stream",
     "text": [
      "      Actual   Predicted\n",
      "5093  432.60  429.035648\n",
      "1044  441.18  440.019562\n",
      "4827  482.99  477.280683\n",
      "2905  437.12  440.976739\n",
      "4994  487.33  486.040825\n",
      "...      ...         ...\n",
      "5247  452.30  450.505213\n",
      "509   446.84  452.697677\n",
      "2908  470.88  469.382644\n",
      "5478  467.20  467.892903\n",
      "2191  446.08  449.084286\n",
      "\n",
      "[1282 rows x 2 columns]\n"
     ]
    }
   ],
   "source": [
    "results = pd.DataFrame({'Actual': y_test, 'Predicted': y_pred})\n",
    "print(results)"
   ]
  },
  {
   "cell_type": "code",
   "execution_count": 53,
   "metadata": {},
   "outputs": [
    {
     "name": "stdout",
     "output_type": "stream",
     "text": [
      "Mean absolute error: 3.58\n",
      "Mean squared error: 20.49\n",
      "Root mean squared error: 4.53\n"
     ]
    }
   ],
   "source": [
    "mae = mean_absolute_error(y_test, y_pred)\n",
    "mse = mean_squared_error(y_test, y_pred)\n",
    "rmse = np.sqrt(mse)\n",
    "\n",
    "print(f'Mean absolute error: {mae:.2f}')\n",
    "print(f'Mean squared error: {mse:.2f}')\n",
    "print(f'Root mean squared error: {rmse:.2f}')"
   ]
  },
  {
   "cell_type": "code",
   "execution_count": 54,
   "metadata": {},
   "outputs": [
    {
     "name": "stdout",
     "output_type": "stream",
     "text": [
      "R²: 0.9287738984353706\n"
     ]
    }
   ],
   "source": [
    "actual_minus_predicted = sum((y_test - y_pred)**2)\n",
    "actual_minus_actual_mean = sum((y_test - y_test.mean())**2)\n",
    "r2 = 1 - actual_minus_predicted/actual_minus_actual_mean\n",
    "print('R²:', r2)"
   ]
  },
  {
   "cell_type": "code",
   "execution_count": 55,
   "metadata": {},
   "outputs": [
    {
     "data": {
      "text/plain": [
       "0.9287738984353705"
      ]
     },
     "execution_count": 55,
     "metadata": {},
     "output_type": "execute_result"
    }
   ],
   "source": [
    "regressor.score(X_test, y_test)"
   ]
  },
  {
   "cell_type": "code",
   "execution_count": 56,
   "metadata": {},
   "outputs": [
    {
     "data": {
      "text/plain": [
       "0.9295453761111792"
      ]
     },
     "execution_count": 56,
     "metadata": {},
     "output_type": "execute_result"
    }
   ],
   "source": [
    "regressor.score(X_train, y_train)"
   ]
  },
  {
   "cell_type": "markdown",
   "metadata": {},
   "source": [
    "#### Eq 1\n",
    "$$ PE = {(-2.18AT) + 497.18} $$\n",
    "\n",
    "#### Eq 1\n",
    "$$ PE = {(-1.71 AT - 0.32 EV)+ 505.59} $$\n",
    "\n",
    "### Eq 3\n",
    "\n",
    "$$ PE = {(-2 AT +  0.05 AP  -0.16  RH -0.23  EV) + 463.16} $$"
   ]
  }
 ],
 "metadata": {
  "kernelspec": {
   "display_name": "Python 3.9.6 64-bit",
   "language": "python",
   "name": "python3"
  },
  "language_info": {
   "codemirror_mode": {
    "name": "ipython",
    "version": 3
   },
   "file_extension": ".py",
   "mimetype": "text/x-python",
   "name": "python",
   "nbconvert_exporter": "python",
   "pygments_lexer": "ipython3",
   "version": "3.9.6"
  },
  "orig_nbformat": 4,
  "vscode": {
   "interpreter": {
    "hash": "8f8cf99212f81ad0c4765861267244807ee1c18364846cdce387b28994a977ba"
   }
  }
 },
 "nbformat": 4,
 "nbformat_minor": 2
}
