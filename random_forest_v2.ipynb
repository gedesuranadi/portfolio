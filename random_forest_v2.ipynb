{
 "cells": [
  {
   "cell_type": "code",
   "execution_count": 91,
   "metadata": {},
   "outputs": [],
   "source": [
    "\n",
    "\n",
    "import numpy as np # linear algebra\n",
    "import pandas as pd # data processing, CSV file I/O (e.g. pd.read_csv)\n",
    "import matplotlib.pyplot as plt # data visualization\n",
    "import seaborn as sns # statistical data visualization\n",
    "%matplotlib inline\n"
   ]
  },
  {
   "cell_type": "code",
   "execution_count": 2,
   "metadata": {},
   "outputs": [],
   "source": [
    "import warnings\n",
    "\n",
    "warnings.filterwarnings('ignore')"
   ]
  },
  {
   "cell_type": "code",
   "execution_count": 7,
   "metadata": {},
   "outputs": [],
   "source": [
    "data = 'dataset/cars_dataset.csv'\n",
    "\n",
    "df = pd.read_csv(data)"
   ]
  },
  {
   "cell_type": "code",
   "execution_count": 8,
   "metadata": {},
   "outputs": [
    {
     "data": {
      "text/plain": [
       "(12076, 11)"
      ]
     },
     "execution_count": 8,
     "metadata": {},
     "output_type": "execute_result"
    }
   ],
   "source": [
    "df.shape"
   ]
  },
  {
   "cell_type": "code",
   "execution_count": 9,
   "metadata": {},
   "outputs": [
    {
     "data": {
      "text/html": [
       "<div>\n",
       "<style scoped>\n",
       "    .dataframe tbody tr th:only-of-type {\n",
       "        vertical-align: middle;\n",
       "    }\n",
       "\n",
       "    .dataframe tbody tr th {\n",
       "        vertical-align: top;\n",
       "    }\n",
       "\n",
       "    .dataframe thead th {\n",
       "        text-align: right;\n",
       "    }\n",
       "</style>\n",
       "<table border=\"1\" class=\"dataframe\">\n",
       "  <thead>\n",
       "    <tr style=\"text-align: right;\">\n",
       "      <th></th>\n",
       "      <th>YEAR</th>\n",
       "      <th>MAKE</th>\n",
       "      <th>MODEL</th>\n",
       "      <th>CONDITION</th>\n",
       "      <th>TRANSMISSION</th>\n",
       "      <th>CYLINDERS</th>\n",
       "      <th>FUEL</th>\n",
       "      <th>ODOMETER</th>\n",
       "      <th>ENGINE POWER</th>\n",
       "      <th>MILAGE</th>\n",
       "      <th>Price</th>\n",
       "    </tr>\n",
       "  </thead>\n",
       "  <tbody>\n",
       "    <tr>\n",
       "      <th>0</th>\n",
       "      <td>2011</td>\n",
       "      <td>chevrolet</td>\n",
       "      <td>camaro</td>\n",
       "      <td>Excellent</td>\n",
       "      <td>Automatic</td>\n",
       "      <td>6</td>\n",
       "      <td>gas</td>\n",
       "      <td>12200</td>\n",
       "      <td>Avg CC</td>\n",
       "      <td>6</td>\n",
       "      <td>0</td>\n",
       "    </tr>\n",
       "    <tr>\n",
       "      <th>1</th>\n",
       "      <td>2012</td>\n",
       "      <td>chrysler</td>\n",
       "      <td>town &amp; country</td>\n",
       "      <td>Excellent</td>\n",
       "      <td>Manual</td>\n",
       "      <td>6</td>\n",
       "      <td>gas</td>\n",
       "      <td>111000</td>\n",
       "      <td>Low CC</td>\n",
       "      <td>11</td>\n",
       "      <td>0</td>\n",
       "    </tr>\n",
       "    <tr>\n",
       "      <th>2</th>\n",
       "      <td>2009</td>\n",
       "      <td>jeep</td>\n",
       "      <td>liberty</td>\n",
       "      <td>Excellent</td>\n",
       "      <td>Manual</td>\n",
       "      <td>6</td>\n",
       "      <td>gas</td>\n",
       "      <td>68650</td>\n",
       "      <td>Low CC</td>\n",
       "      <td>49</td>\n",
       "      <td>0</td>\n",
       "    </tr>\n",
       "    <tr>\n",
       "      <th>3</th>\n",
       "      <td>2011</td>\n",
       "      <td>buick</td>\n",
       "      <td>lacrosse</td>\n",
       "      <td>Excellent</td>\n",
       "      <td>Manual</td>\n",
       "      <td>6</td>\n",
       "      <td>gas</td>\n",
       "      <td>123562</td>\n",
       "      <td>High CC</td>\n",
       "      <td>40</td>\n",
       "      <td>0</td>\n",
       "    </tr>\n",
       "    <tr>\n",
       "      <th>4</th>\n",
       "      <td>2008</td>\n",
       "      <td>chevrolet</td>\n",
       "      <td>cobalt</td>\n",
       "      <td>Excellent</td>\n",
       "      <td>Automatic</td>\n",
       "      <td>4</td>\n",
       "      <td>gas</td>\n",
       "      <td>138001</td>\n",
       "      <td>Avg CC</td>\n",
       "      <td>33</td>\n",
       "      <td>0</td>\n",
       "    </tr>\n",
       "  </tbody>\n",
       "</table>\n",
       "</div>"
      ],
      "text/plain": [
       "   YEAR       MAKE           MODEL  CONDITION TRANSMISSION  CYLINDERS FUEL  \\\n",
       "0  2011  chevrolet          camaro  Excellent    Automatic          6  gas   \n",
       "1  2012   chrysler  town & country  Excellent       Manual          6  gas   \n",
       "2  2009       jeep         liberty  Excellent       Manual          6  gas   \n",
       "3  2011      buick        lacrosse  Excellent       Manual          6  gas   \n",
       "4  2008  chevrolet          cobalt  Excellent    Automatic          4  gas   \n",
       "\n",
       "   ODOMETER ENGINE POWER  MILAGE  Price  \n",
       "0     12200       Avg CC       6      0  \n",
       "1    111000       Low CC      11      0  \n",
       "2     68650       Low CC      49      0  \n",
       "3    123562      High CC      40      0  \n",
       "4    138001       Avg CC      33      0  "
      ]
     },
     "execution_count": 9,
     "metadata": {},
     "output_type": "execute_result"
    }
   ],
   "source": [
    "df.head()"
   ]
  },
  {
   "cell_type": "code",
   "execution_count": 16,
   "metadata": {},
   "outputs": [
    {
     "name": "stdout",
     "output_type": "stream",
     "text": [
      "['YEAR', 'MAKE', 'MODEL', 'CONDITION', 'TRANSMISSION', 'CYLINDERS', 'FUEL', 'ODOMETER', 'ENGINE POWER', 'MILAGE', 'Price']\n"
     ]
    }
   ],
   "source": [
    "colNames = []\n",
    "for col in df.columns:\n",
    "    colNames.append(col)\n",
    "\n",
    "print(colNames)"
   ]
  },
  {
   "cell_type": "code",
   "execution_count": 18,
   "metadata": {},
   "outputs": [
    {
     "name": "stdout",
     "output_type": "stream",
     "text": [
      "<class 'pandas.core.frame.DataFrame'>\n",
      "RangeIndex: 12076 entries, 0 to 12075\n",
      "Data columns (total 11 columns):\n",
      " #   Column        Non-Null Count  Dtype \n",
      "---  ------        --------------  ----- \n",
      " 0   YEAR          12076 non-null  int64 \n",
      " 1   MAKE          12076 non-null  object\n",
      " 2   MODEL         12076 non-null  object\n",
      " 3   CONDITION     12076 non-null  object\n",
      " 4   TRANSMISSION  12076 non-null  object\n",
      " 5   CYLINDERS     12076 non-null  int64 \n",
      " 6   FUEL          12076 non-null  object\n",
      " 7   ODOMETER      12076 non-null  int64 \n",
      " 8   ENGINE POWER  12076 non-null  object\n",
      " 9   MILAGE        12076 non-null  int64 \n",
      " 10  Price         12076 non-null  int64 \n",
      "dtypes: int64(5), object(6)\n",
      "memory usage: 1.0+ MB\n"
     ]
    }
   ],
   "source": [
    "df.info()"
   ]
  },
  {
   "cell_type": "code",
   "execution_count": 19,
   "metadata": {},
   "outputs": [
    {
     "name": "stdout",
     "output_type": "stream",
     "text": [
      "2015    1237\n",
      "2016    1175\n",
      "2014     935\n",
      "2013     844\n",
      "2012     826\n",
      "        ... \n",
      "1952       1\n",
      "1940       1\n",
      "1951       1\n",
      "1944       1\n",
      "1962       1\n",
      "Name: YEAR, Length: 89, dtype: int64\n",
      "ford               2792\n",
      "chevrolet          2143\n",
      "ram                1003\n",
      "toyota              791\n",
      "gmc                 713\n",
      "jeep                520\n",
      "nissan              441\n",
      "dodge               429\n",
      "honda               414\n",
      "bmw                 269\n",
      "mercedes-benz       245\n",
      "volkswagen          217\n",
      "cadillac            208\n",
      "subaru              206\n",
      "hyundai             174\n",
      "chrysler            166\n",
      "buick               156\n",
      "lexus               127\n",
      "audi                122\n",
      "mazda               120\n",
      "kia                 113\n",
      "lincoln              91\n",
      "pontiac              90\n",
      "volvo                90\n",
      "infiniti             82\n",
      "acura                71\n",
      "rover                57\n",
      "mitsubishi           48\n",
      "jaguar               45\n",
      "mercury              41\n",
      "mini                 32\n",
      "saturn               29\n",
      "fiat                  9\n",
      "ferrari               9\n",
      "datsun                7\n",
      "alfa-romeo            2\n",
      "aston-martin          2\n",
      "harley-davidson       1\n",
      "hennessey             1\n",
      "Name: MAKE, dtype: int64\n",
      "f-150               336\n",
      "2500                326\n",
      "silverado 1500      321\n",
      "1500                207\n",
      "3500                150\n",
      "                   ... \n",
      "ls 430                1\n",
      "equinox ltz awd       1\n",
      "rogue awd             1\n",
      "f1 truck              1\n",
      "polara 500 conv.      1\n",
      "Name: MODEL, Length: 3076, dtype: int64\n",
      "Excellent    11803\n",
      "salvage        273\n",
      "Name: CONDITION, dtype: int64\n",
      "Automatic    7238\n",
      "Manual       4838\n",
      "Name: TRANSMISSION, dtype: int64\n",
      "8    5081\n",
      "6    4448\n",
      "4    2450\n",
      "5      97\n",
      "Name: CYLINDERS, dtype: int64\n",
      "gas       10269\n",
      "diesel     1807\n",
      "Name: FUEL, dtype: int64\n",
      "79000     49\n",
      "0         40\n",
      "68000     27\n",
      "67000     25\n",
      "150000    24\n",
      "          ..\n",
      "129702     1\n",
      "257736     1\n",
      "43881      1\n",
      "76953      1\n",
      "54110      1\n",
      "Name: ODOMETER, Length: 7471, dtype: int64\n",
      "Low CC     8670\n",
      "Avg CC     2268\n",
      "High CC    1138\n",
      "Name: ENGINE POWER, dtype: int64\n",
      "19    292\n",
      "27    287\n",
      "15    287\n",
      "16    283\n",
      "28    282\n",
      "32    280\n",
      "25    279\n",
      "48    279\n",
      "38    277\n",
      "47    277\n",
      "42    276\n",
      "39    275\n",
      "41    272\n",
      "10    272\n",
      "26    269\n",
      "43    268\n",
      "37    268\n",
      "6     265\n",
      "24    264\n",
      "12    263\n",
      "33    263\n",
      "14    261\n",
      "34    261\n",
      "35    259\n",
      "45    259\n",
      "11    258\n",
      "18    257\n",
      "30    256\n",
      "23    256\n",
      "29    256\n",
      "9     255\n",
      "44    253\n",
      "20    253\n",
      "36    253\n",
      "5     252\n",
      "8     250\n",
      "50    250\n",
      "21    250\n",
      "46    249\n",
      "13    249\n",
      "17    248\n",
      "40    248\n",
      "31    246\n",
      "7     243\n",
      "22    239\n",
      "49    237\n",
      "Name: MILAGE, dtype: int64\n",
      "0    7016\n",
      "1    4763\n",
      "2     297\n",
      "Name: Price, dtype: int64\n"
     ]
    }
   ],
   "source": [
    "for col in colNames:\n",
    "    print(df[col].value_counts())"
   ]
  },
  {
   "cell_type": "code",
   "execution_count": 20,
   "metadata": {},
   "outputs": [
    {
     "data": {
      "text/plain": [
       "YEAR            0\n",
       "MAKE            0\n",
       "MODEL           0\n",
       "CONDITION       0\n",
       "TRANSMISSION    0\n",
       "CYLINDERS       0\n",
       "FUEL            0\n",
       "ODOMETER        0\n",
       "ENGINE POWER    0\n",
       "MILAGE          0\n",
       "Price           0\n",
       "dtype: int64"
      ]
     },
     "execution_count": 20,
     "metadata": {},
     "output_type": "execute_result"
    }
   ],
   "source": [
    "df.isnull().sum()"
   ]
  },
  {
   "cell_type": "code",
   "execution_count": 45,
   "metadata": {},
   "outputs": [],
   "source": [
    "X = df.drop(['MODEL', 'YEAR', 'ODOMETER', 'Price'], axis = 1)\n",
    "\n",
    "y = df.Price"
   ]
  },
  {
   "cell_type": "code",
   "execution_count": 46,
   "metadata": {},
   "outputs": [],
   "source": [
    "# split data into training and testing sets\n",
    "\n",
    "from sklearn.model_selection import train_test_split\n",
    "\n",
    "X_train, X_test, y_train, y_test = train_test_split(X, y, test_size = 0.25, random_state = 42)"
   ]
  },
  {
   "cell_type": "code",
   "execution_count": 47,
   "metadata": {},
   "outputs": [
    {
     "data": {
      "text/plain": [
       "((9057, 7), (3019, 7))"
      ]
     },
     "execution_count": 47,
     "metadata": {},
     "output_type": "execute_result"
    }
   ],
   "source": [
    "# check the shape of X_train and X_test\n",
    "\n",
    "X_train.shape, X_test.shape"
   ]
  },
  {
   "cell_type": "code",
   "execution_count": 48,
   "metadata": {},
   "outputs": [
    {
     "data": {
      "text/plain": [
       "MAKE            object\n",
       "CONDITION       object\n",
       "TRANSMISSION    object\n",
       "CYLINDERS        int64\n",
       "FUEL            object\n",
       "ENGINE POWER    object\n",
       "MILAGE           int64\n",
       "dtype: object"
      ]
     },
     "execution_count": 48,
     "metadata": {},
     "output_type": "execute_result"
    }
   ],
   "source": [
    "# check data types in X_train\n",
    "\n",
    "X_train.dtypes"
   ]
  },
  {
   "cell_type": "code",
   "execution_count": 49,
   "metadata": {},
   "outputs": [],
   "source": [
    "# import category encoders\n",
    "\n",
    "import category_encoders as ce"
   ]
  },
  {
   "cell_type": "code",
   "execution_count": 51,
   "metadata": {},
   "outputs": [],
   "source": [
    "# encode categorical variables with ordinal encoding\n",
    "\n",
    "encoder = ce.OrdinalEncoder(cols=['MAKE', 'CONDITION', 'TRANSMISSION', 'CYLINDERS', 'FUEL', 'ENGINE POWER', 'MILAGE'])\n",
    "\n",
    "\n",
    "X_train = encoder.fit_transform(X_train)\n",
    "\n",
    "X_test = encoder.transform(X_test)"
   ]
  },
  {
   "cell_type": "code",
   "execution_count": 52,
   "metadata": {},
   "outputs": [
    {
     "data": {
      "text/html": [
       "<div>\n",
       "<style scoped>\n",
       "    .dataframe tbody tr th:only-of-type {\n",
       "        vertical-align: middle;\n",
       "    }\n",
       "\n",
       "    .dataframe tbody tr th {\n",
       "        vertical-align: top;\n",
       "    }\n",
       "\n",
       "    .dataframe thead th {\n",
       "        text-align: right;\n",
       "    }\n",
       "</style>\n",
       "<table border=\"1\" class=\"dataframe\">\n",
       "  <thead>\n",
       "    <tr style=\"text-align: right;\">\n",
       "      <th></th>\n",
       "      <th>MAKE</th>\n",
       "      <th>CONDITION</th>\n",
       "      <th>TRANSMISSION</th>\n",
       "      <th>CYLINDERS</th>\n",
       "      <th>FUEL</th>\n",
       "      <th>ENGINE POWER</th>\n",
       "      <th>MILAGE</th>\n",
       "    </tr>\n",
       "  </thead>\n",
       "  <tbody>\n",
       "    <tr>\n",
       "      <th>9611</th>\n",
       "      <td>1</td>\n",
       "      <td>1</td>\n",
       "      <td>1</td>\n",
       "      <td>1</td>\n",
       "      <td>1</td>\n",
       "      <td>1</td>\n",
       "      <td>1</td>\n",
       "    </tr>\n",
       "    <tr>\n",
       "      <th>1339</th>\n",
       "      <td>2</td>\n",
       "      <td>1</td>\n",
       "      <td>2</td>\n",
       "      <td>2</td>\n",
       "      <td>2</td>\n",
       "      <td>2</td>\n",
       "      <td>2</td>\n",
       "    </tr>\n",
       "    <tr>\n",
       "      <th>9460</th>\n",
       "      <td>1</td>\n",
       "      <td>1</td>\n",
       "      <td>1</td>\n",
       "      <td>1</td>\n",
       "      <td>1</td>\n",
       "      <td>1</td>\n",
       "      <td>3</td>\n",
       "    </tr>\n",
       "    <tr>\n",
       "      <th>738</th>\n",
       "      <td>2</td>\n",
       "      <td>1</td>\n",
       "      <td>1</td>\n",
       "      <td>3</td>\n",
       "      <td>2</td>\n",
       "      <td>1</td>\n",
       "      <td>4</td>\n",
       "    </tr>\n",
       "    <tr>\n",
       "      <th>965</th>\n",
       "      <td>3</td>\n",
       "      <td>1</td>\n",
       "      <td>1</td>\n",
       "      <td>1</td>\n",
       "      <td>2</td>\n",
       "      <td>1</td>\n",
       "      <td>5</td>\n",
       "    </tr>\n",
       "  </tbody>\n",
       "</table>\n",
       "</div>"
      ],
      "text/plain": [
       "      MAKE  CONDITION  TRANSMISSION  CYLINDERS  FUEL  ENGINE POWER  MILAGE\n",
       "9611     1          1             1          1     1             1       1\n",
       "1339     2          1             2          2     2             2       2\n",
       "9460     1          1             1          1     1             1       3\n",
       "738      2          1             1          3     2             1       4\n",
       "965      3          1             1          1     2             1       5"
      ]
     },
     "execution_count": 52,
     "metadata": {},
     "output_type": "execute_result"
    }
   ],
   "source": [
    "X_train.head()"
   ]
  },
  {
   "cell_type": "code",
   "execution_count": 53,
   "metadata": {},
   "outputs": [
    {
     "data": {
      "text/html": [
       "<div>\n",
       "<style scoped>\n",
       "    .dataframe tbody tr th:only-of-type {\n",
       "        vertical-align: middle;\n",
       "    }\n",
       "\n",
       "    .dataframe tbody tr th {\n",
       "        vertical-align: top;\n",
       "    }\n",
       "\n",
       "    .dataframe thead th {\n",
       "        text-align: right;\n",
       "    }\n",
       "</style>\n",
       "<table border=\"1\" class=\"dataframe\">\n",
       "  <thead>\n",
       "    <tr style=\"text-align: right;\">\n",
       "      <th></th>\n",
       "      <th>MAKE</th>\n",
       "      <th>CONDITION</th>\n",
       "      <th>TRANSMISSION</th>\n",
       "      <th>CYLINDERS</th>\n",
       "      <th>FUEL</th>\n",
       "      <th>ENGINE POWER</th>\n",
       "      <th>MILAGE</th>\n",
       "    </tr>\n",
       "  </thead>\n",
       "  <tbody>\n",
       "    <tr>\n",
       "      <th>8903</th>\n",
       "      <td>2.0</td>\n",
       "      <td>1</td>\n",
       "      <td>2</td>\n",
       "      <td>3</td>\n",
       "      <td>1</td>\n",
       "      <td>1</td>\n",
       "      <td>37</td>\n",
       "    </tr>\n",
       "    <tr>\n",
       "      <th>9678</th>\n",
       "      <td>2.0</td>\n",
       "      <td>1</td>\n",
       "      <td>1</td>\n",
       "      <td>1</td>\n",
       "      <td>2</td>\n",
       "      <td>1</td>\n",
       "      <td>34</td>\n",
       "    </tr>\n",
       "    <tr>\n",
       "      <th>2901</th>\n",
       "      <td>5.0</td>\n",
       "      <td>1</td>\n",
       "      <td>1</td>\n",
       "      <td>1</td>\n",
       "      <td>2</td>\n",
       "      <td>2</td>\n",
       "      <td>28</td>\n",
       "    </tr>\n",
       "    <tr>\n",
       "      <th>11898</th>\n",
       "      <td>2.0</td>\n",
       "      <td>1</td>\n",
       "      <td>2</td>\n",
       "      <td>3</td>\n",
       "      <td>1</td>\n",
       "      <td>1</td>\n",
       "      <td>33</td>\n",
       "    </tr>\n",
       "    <tr>\n",
       "      <th>8349</th>\n",
       "      <td>4.0</td>\n",
       "      <td>1</td>\n",
       "      <td>1</td>\n",
       "      <td>3</td>\n",
       "      <td>2</td>\n",
       "      <td>1</td>\n",
       "      <td>34</td>\n",
       "    </tr>\n",
       "  </tbody>\n",
       "</table>\n",
       "</div>"
      ],
      "text/plain": [
       "       MAKE  CONDITION  TRANSMISSION  CYLINDERS  FUEL  ENGINE POWER  MILAGE\n",
       "8903    2.0          1             2          3     1             1      37\n",
       "9678    2.0          1             1          1     2             1      34\n",
       "2901    5.0          1             1          1     2             2      28\n",
       "11898   2.0          1             2          3     1             1      33\n",
       "8349    4.0          1             1          3     2             1      34"
      ]
     },
     "execution_count": 53,
     "metadata": {},
     "output_type": "execute_result"
    }
   ],
   "source": [
    "X_test.head()"
   ]
  },
  {
   "cell_type": "code",
   "execution_count": 54,
   "metadata": {},
   "outputs": [
    {
     "name": "stdout",
     "output_type": "stream",
     "text": [
      "Model accuracy score with 10 decision-trees : 0.7261\n"
     ]
    }
   ],
   "source": [
    "# import Random Forest classifier\n",
    "\n",
    "from sklearn.ensemble import RandomForestClassifier\n",
    "\n",
    "\n",
    "\n",
    "# instantiate the classifier \n",
    "\n",
    "rfc = RandomForestClassifier(random_state=0)\n",
    "\n",
    "\n",
    "\n",
    "# fit the model\n",
    "\n",
    "rfc.fit(X_train, y_train)\n",
    "\n",
    "\n",
    "\n",
    "# Predict the Test set results\n",
    "\n",
    "y_pred = rfc.predict(X_test)\n",
    "\n",
    "\n",
    "\n",
    "# Check accuracy score \n",
    "\n",
    "from sklearn.metrics import accuracy_score\n",
    "\n",
    "print('Model accuracy score with 10 decision-trees : {0:0.4f}'. format(accuracy_score(y_test, y_pred)))"
   ]
  },
  {
   "cell_type": "code",
   "execution_count": 55,
   "metadata": {},
   "outputs": [
    {
     "name": "stdout",
     "output_type": "stream",
     "text": [
      "Model accuracy score with 100 decision-trees : 0.7261\n"
     ]
    }
   ],
   "source": [
    "# instantiate the classifier with n_estimators = 100\n",
    "\n",
    "rfc_100 = RandomForestClassifier(n_estimators=100, random_state=0)\n",
    "\n",
    "\n",
    "\n",
    "# fit the model to the training set\n",
    "\n",
    "rfc_100.fit(X_train, y_train)\n",
    "\n",
    "\n",
    "\n",
    "# Predict on the test set results\n",
    "\n",
    "y_pred_100 = rfc_100.predict(X_test)\n",
    "\n",
    "\n",
    "\n",
    "# Check accuracy score \n",
    "\n",
    "print('Model accuracy score with 100 decision-trees : {0:0.4f}'. format(accuracy_score(y_test, y_pred_100)))"
   ]
  },
  {
   "cell_type": "code",
   "execution_count": 56,
   "metadata": {},
   "outputs": [
    {
     "data": {
      "text/plain": [
       "RandomForestClassifier(random_state=0)"
      ]
     },
     "execution_count": 56,
     "metadata": {},
     "output_type": "execute_result"
    }
   ],
   "source": [
    "# create the classifier with n_estimators = 100\n",
    "\n",
    "clf = RandomForestClassifier(n_estimators=100, random_state=0)\n",
    "\n",
    "\n",
    "\n",
    "# fit the model to the training set\n",
    "\n",
    "clf.fit(X_train, y_train)"
   ]
  },
  {
   "cell_type": "code",
   "execution_count": 58,
   "metadata": {},
   "outputs": [
    {
     "name": "stdout",
     "output_type": "stream",
     "text": [
      "MILAGE          0.357085\n",
      "MAKE            0.244290\n",
      "ENGINE POWER    0.164295\n",
      "CYLINDERS       0.126779\n",
      "FUEL            0.077289\n",
      "CONDITION       0.016313\n",
      "TRANSMISSION    0.013950\n",
      "dtype: float64\n"
     ]
    }
   ],
   "source": [
    "# view the feature scores\n",
    "\n",
    "feature_scores = pd.Series(clf.feature_importances_, index=X_train.columns).sort_values(ascending=False)\n",
    "\n",
    "print(feature_scores)"
   ]
  },
  {
   "cell_type": "code",
   "execution_count": 59,
   "metadata": {},
   "outputs": [
    {
     "data": {
      "image/png": "[encoded data removed]",
      "text/plain": [
       "<Figure size 432x288 with 1 Axes>"
      ]
     },
     "metadata": {
      "needs_background": "light"
     },
     "output_type": "display_data"
    }
   ],
   "source": [
    "# Creating a seaborn bar plot\n",
    "\n",
    "sns.barplot(x=feature_scores, y=feature_scores.index)\n",
    "\n",
    "\n",
    "\n",
    "# Add labels to the graph\n",
    "\n",
    "plt.xlabel('Feature Importance Score')\n",
    "\n",
    "plt.ylabel('Features')\n",
    "\n",
    "\n",
    "\n",
    "# Add title to the graph\n",
    "\n",
    "plt.title(\"Visualizing Important Features\")\n",
    "\n",
    "\n",
    "\n",
    "# Visualize the graph\n",
    "\n",
    "plt.show()"
   ]
  },
  {
   "cell_type": "markdown",
   "metadata": {},
   "source": [
    "### Rebuild Random Forest Model with Selected Features"
   ]
  },
  {
   "cell_type": "code",
   "execution_count": 83,
   "metadata": {},
   "outputs": [],
   "source": [
    "X = df.drop(['MODEL', 'YEAR', 'ODOMETER', 'Price', 'CONDITION', 'TRANSMISSION'], axis = 1)\n",
    "\n",
    "y = df.Price"
   ]
  },
  {
   "cell_type": "code",
   "execution_count": 86,
   "metadata": {},
   "outputs": [],
   "source": [
    "# split data into training and testing sets\n",
    "\n",
    "from sklearn.model_selection import train_test_split\n",
    "\n",
    "X_train, X_test, y_train, y_test = train_test_split(X, y, test_size = 0.25, random_state = 42)"
   ]
  },
  {
   "cell_type": "code",
   "execution_count": 87,
   "metadata": {},
   "outputs": [],
   "source": [
    "# encode categorical variables with ordinal encoding\n",
    "\n",
    "encoder = ce.OrdinalEncoder(cols=['MAKE', 'CYLINDERS', 'FUEL', 'ENGINE POWER', 'MILAGE'])\n",
    "\n",
    "\n",
    "X_train = encoder.fit_transform(X_train)\n",
    "\n",
    "X_test = encoder.transform(X_test)"
   ]
  },
  {
   "cell_type": "code",
   "execution_count": 88,
   "metadata": {},
   "outputs": [
    {
     "name": "stdout",
     "output_type": "stream",
     "text": [
      "New model accuracy score : 0.7307\n"
     ]
    }
   ],
   "source": [
    "# instantiate the classifier with n_estimators = 100\n",
    "\n",
    "clf = RandomForestClassifier(random_state=0)\n",
    "\n",
    "\n",
    "\n",
    "# fit the model to the training set\n",
    "\n",
    "clf.fit(X_train, y_train)\n",
    "\n",
    "\n",
    "# Predict on the test set results\n",
    "\n",
    "y_pred = clf.predict(X_test)\n",
    "\n",
    "\n",
    "\n",
    "# Check accuracy score \n",
    "\n",
    "print('New model accuracy score : {0:0.4f}'. format(accuracy_score(y_test, y_pred)))"
   ]
  },
  {
   "cell_type": "code",
   "execution_count": 89,
   "metadata": {},
   "outputs": [
    {
     "name": "stdout",
     "output_type": "stream",
     "text": [
      "Confusion matrix\n",
      "\n",
      " [[1379  398   14]\n",
      " [ 338  823   11]\n",
      " [  15   37    4]]\n"
     ]
    },
    {
     "data": {
      "image/png": "[encoded data removed]",
      "text/plain": [
       "<Figure size 432x288 with 2 Axes>"
      ]
     },
     "metadata": {
      "needs_background": "light"
     },
     "output_type": "display_data"
    }
   ],
   "source": [
    "# Print the Confusion Matrix and slice it into four pieces\n",
    "\n",
    "from sklearn.metrics import confusion_matrix\n",
    "\n",
    "cm = confusion_matrix(y_test, y_pred)\n",
    "\n",
    "sns.heatmap(cm, annot = True)\n",
    "print('Confusion matrix\\n\\n', cm)"
   ]
  },
  {
   "cell_type": "code",
   "execution_count": 90,
   "metadata": {},
   "outputs": [
    {
     "name": "stdout",
     "output_type": "stream",
     "text": [
      "              precision    recall  f1-score   support\n",
      "\n",
      "           0       0.80      0.77      0.78      1791\n",
      "           1       0.65      0.70      0.68      1172\n",
      "           2       0.14      0.07      0.09        56\n",
      "\n",
      "    accuracy                           0.73      3019\n",
      "   macro avg       0.53      0.51      0.52      3019\n",
      "weighted avg       0.73      0.73      0.73      3019\n",
      "\n"
     ]
    }
   ],
   "source": [
    "from sklearn.metrics import classification_report\n",
    "\n",
    "print(classification_report(y_test, y_pred))"
   ]
  },
  {
   "cell_type": "markdown",
   "metadata": {},
   "source": [
    "### Kesimpulan\n",
    "\n",
    "1. Pada project ini, dibangun model klasifikasi menggunakan Random Forest dengan 10 decision-tree dan 100 decision-tree, namun akurasi untuk keduanya masih cukup rendah, yaitu kurang dari 75%\n",
    "2. Setelah diketahui tingkat 'kepentingan' fitur atau imporntance features, model dibangun ulang dengan menghilangkan fitur yang kurang penting\n",
    "3. Namun, setelah dibangun kembali, model masih memiliki tingkat akurasi kurang dari 75%"
   ]
  },
  {
   "cell_type": "markdown",
   "metadata": {},
   "source": []
  }
 ],
 "metadata": {
  "kernelspec": {
   "display_name": "Python 3.9.6 64-bit",
   "language": "python",
   "name": "python3"
  },
  "language_info": {
   "codemirror_mode": {
    "name": "ipython",
    "version": 3
   },
   "file_extension": ".py",
   "mimetype": "text/x-python",
   "name": "python",
   "nbconvert_exporter": "python",
   "pygments_lexer": "ipython3",
   "version": "3.9.6"
  },
  "orig_nbformat": 4,
  "vscode": {
   "interpreter": {
    "hash": "8f8cf99212f81ad0c4765861267244807ee1c18364846cdce387b28994a977ba"
   }
  }
 },
 "nbformat": 4,
 "nbformat_minor": 2
}
